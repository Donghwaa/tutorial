{
  "nbformat": 4,
  "nbformat_minor": 0,
  "metadata": {
    "colab": {
      "private_outputs": true,
      "provenance": [],
      "authorship_tag": "ABX9TyMCiUZh2VpthOkZ4YIHbrXt"
    },
    "kernelspec": {
      "name": "python3",
      "display_name": "Python 3"
    },
    "language_info": {
      "name": "python"
    }
  },
  "cells": [
    {
      "cell_type": "code",
      "execution_count": null,
      "metadata": {
        "id": "VBcm7mcprmHx"
      },
      "outputs": [],
      "source": [
        "import pandas as pd\n",
        "import numpy as np\n",
        "import matplotlib.pyplot as plt\n",
        "import yfinance as yf\n",
        "\n",
        "import tensorflow as tf"
      ]
    },
    {
      "cell_type": "code",
      "source": [
        "aapl = yf.download('AAPL',start = '2018-01-01', end = '2020-12-31')\n",
        "aapl.head(25)"
      ],
      "metadata": {
        "id": "LHBhQMpUr4uT"
      },
      "execution_count": null,
      "outputs": []
    },
    {
      "cell_type": "code",
      "source": [
        "X = aapl[['Open', 'High', 'Low', 'Adj Close', 'Volume']].values\n",
        "y = aapl[ 'Adj Close'].values"
      ],
      "metadata": {
        "id": "Zjpoc8Nz7DP8"
      },
      "execution_count": null,
      "outputs": []
    },
    {
      "cell_type": "code",
      "source": [
        "X_size = 20\n",
        "y_size = 5\n",
        "stride = 1\n",
        "shift = 1\n",
        "batch_size = 1"
      ],
      "metadata": {
        "id": "BDauRHF739pW"
      },
      "execution_count": null,
      "outputs": []
    },
    {
      "cell_type": "code",
      "source": [
        "def Sequence(X,y,X_size, y_size, shift, stride, batch_size):\n",
        "    X_tensor = tf.data.Dataset.from_tensor_slices(X)\n",
        "    X_tensor = X_tensor.window(size = X_size, stride= stride, shift = shift, drop_remainder = True)\n",
        "    X_tensor = X_tensor.flat_map(lambda x :x.batch(X_size))\n",
        "\n",
        "    y_tensor = tf.data.Dataset.from_tensor_slices(y)\n",
        "    y_tensor = y_tensor.window(size = y_size, stride = stride, shift = shift, drop_remainder = True )\n",
        "    y_tensor = y_tensor.flat_map(lambda y : y.batch(y_size))\n",
        "\n",
        "    Xy = tf.data.Dataset.zip((X_tensor, y_tensor))\n",
        "    return Xy.batch(batch_size).prefetch(1)"
      ],
      "metadata": {
        "id": "MDYVtxf4_LWz"
      },
      "execution_count": null,
      "outputs": []
    },
    {
      "cell_type": "code",
      "source": [
        "tf_dataset = Sequence(X,y[X_size:],X_size, y_size, shift, stride, batch_size)"
      ],
      "metadata": {
        "id": "JVhc8s9__ErK"
      },
      "execution_count": null,
      "outputs": []
    },
    {
      "cell_type": "code",
      "source": [
        "for x,y in tf_dataset.take(2):\n",
        "  print(x.shape)\n",
        "  print(x)\n",
        "  print(y.shape)\n",
        "  print(y)\n",
        "  print('-'*100)"
      ],
      "metadata": {
        "id": "xkA3e0D0_3Gi"
      },
      "execution_count": null,
      "outputs": []
    },
    {
      "cell_type": "code",
      "source": [],
      "metadata": {
        "id": "fob6C9zPB72A"
      },
      "execution_count": null,
      "outputs": []
    }
  ]
}